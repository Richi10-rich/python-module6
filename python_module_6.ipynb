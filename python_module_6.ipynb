{
  "nbformat": 4,
  "nbformat_minor": 0,
  "metadata": {
    "colab": {
      "provenance": []
    },
    "kernelspec": {
      "name": "python3",
      "display_name": "Python 3"
    },
    "language_info": {
      "name": "python"
    }
  },
  "cells": [
    {
      "cell_type": "markdown",
      "source": [
        "# MODULE **6**"
      ],
      "metadata": {
        "id": "uNQBCBy4G5T4"
      }
    },
    {
      "cell_type": "markdown",
      "source": [
        "1. What is the difference between interpreted and compiled languages?\n",
        "  - A compiled language translates the entire source code into machine code before execution, resulting in faster performance, while an interpreted language executes the code directly line-by-line without pre-compiling, making it slower but often more flexible and platform-independent"
      ],
      "metadata": {
        "id": "CwWouAIBHJPW"
      }
    },
    {
      "cell_type": "markdown",
      "source": [
        "2. What is exception handling in Python?\n",
        "   - Exception handling allows to respond to the error, instead of crashing the running program. It enables you to catch and manage errors, making your code more robust and user-friendly."
      ],
      "metadata": {
        "id": "hBj3j36WIyFK"
      }
    },
    {
      "cell_type": "markdown",
      "source": [
        "3. What is the purpose of the finally block in exception handling?\n",
        "   - The purpose of a finally block in exception handling is to ensure that important code is executed regardless of whether an exception is thrown. This is useful for closing resources, logging diagnostic messages, and other cleanup tasks.\n"
      ],
      "metadata": {
        "id": "lqgQqXDrK58P"
      }
    },
    {
      "cell_type": "markdown",
      "source": [
        "4. What is logging in Python?\n",
        "   - Python logging is a module that records events that occur while a Python program is running. It's a useful tool for debugging, troubleshooting, and monitoring a program."
      ],
      "metadata": {
        "id": "0JF4QtkbLZEc"
      }
    },
    {
      "cell_type": "markdown",
      "source": [
        "5.  What is the significance of the __del__ method in Python?\n",
        "  - __del__ is a finalizer. It is called when an object is garbage collected which happens at some point after all references to the object have been deleted. In a simple case this could be right after you say del x or, if x is a local variable, after the function ends.\n"
      ],
      "metadata": {
        "id": "EURX29SUL79w"
      }
    },
    {
      "cell_type": "markdown",
      "source": [
        "6. What is the difference between import and from ... import in Python?\n",
        "  - In general, you should use the import statement when you need to use many attributes from a module, or when the module name is short and easy to remember. You should use the from statement when you only need to use a few attributes from a module, or when the module name is long and hard to remember.\n"
      ],
      "metadata": {
        "id": "gJMhIrTlN9_D"
      }
    },
    {
      "cell_type": "markdown",
      "source": [
        "7.  How can you handle multiple exceptions in Python?\n",
        "   - In Python, you can handle multiple exceptions in a single except block by specifying them as a tuple. This is useful when different exceptions require similar handling logic.\n"
      ],
      "metadata": {
        "id": "9uuD27z1OpI3"
      }
    },
    {
      "cell_type": "markdown",
      "source": [
        "8. What is the purpose of the with statement when handling files in Python?\n",
        "   - In Python, the \"with\" statement is used to ensure that a file is properly closed after it's used, even if an exception occurs, effectively managing the resource and preventing potential issues like resource leaks by automatically handling the file's closure within the code block; this makes your file handling code cleaner and more reliable.\n",
        "\n"
      ],
      "metadata": {
        "id": "Z_rCD7BzPY94"
      }
    },
    {
      "cell_type": "markdown",
      "source": [
        "9. What is the difference between multithreading and multiprocessing?\n",
        "  - Multiprocessing uses two or more CPUs to increase computing power, whereas multithreading uses a single process with multiple code segments to increase computing power\n"
      ],
      "metadata": {
        "id": "_PAUDIajRWfw"
      }
    },
    {
      "cell_type": "markdown",
      "source": [
        "10. What are the advantages of using logging in a program?\n",
        "   -  Using logging in a program provides significant advantages for debugging, troubleshooting, monitoring application behavior, identifying potential issues, understanding user interactions, and improving security by providing a detailed record of events, errors, and warnings that occur during program execution, making it easier to pinpoint problems and track changes in the system.\n"
      ],
      "metadata": {
        "id": "Y37RSvyVSN8F"
      }
    },
    {
      "cell_type": "markdown",
      "source": [
        "11. What is memory management in Python?\n",
        "  - Memory management in Python is the process of allocating and freeing up memory for programs to run efficiently. Python automatically manages memory, which can improve program performance and reduce space complexity.\n",
        "\n"
      ],
      "metadata": {
        "id": "2kqsCLMfSySQ"
      }
    },
    {
      "cell_type": "markdown",
      "source": [
        "12. What are the basic steps involved in exception handling in Python?\n",
        "    - In Python, the basic steps for exception handling involve using the \"try\" and \"except\" blocks to identify and handle potential errors within a code block; the \"try\" block contains the code that might raise an exception, while the \"except\" block executes if an exception occurs, allowing you to gracefully manage the error and continue program execution; optionally, you can also use \"else\" to run code if no exception is raised and \"finally\" to execute cleanup code regardless of whether an exception happened or not.\n",
        "\n"
      ],
      "metadata": {
        "id": "XoDjzDVZYkko"
      }
    },
    {
      "cell_type": "markdown",
      "source": [
        "13. Why is memory management important in Python?\n",
        "   - Memory management in Python is important because it ensures that programs run efficiently by allocating and freeing memory as needed. This helps to prevent memory leaks and improve overall program performance.\n",
        "\n"
      ],
      "metadata": {
        "id": "NkmV3t3wZTr1"
      }
    },
    {
      "cell_type": "markdown",
      "source": [
        "14. What is the role of try and except in exception handling?\n",
        "  - In exception handling, \"try\" and \"except\" are used to define a block of code where potential errors might occur (\"try\"), and a separate block to handle those errors if they are raised (\"except\"), allowing your program to continue execution gracefully even when an exception happens instead of crashing.\n",
        "\n"
      ],
      "metadata": {
        "id": "0z2uMuGKbATq"
      }
    },
    {
      "cell_type": "markdown",
      "source": [
        "15. How does Python's garbage collection system work?\n",
        "  - Python's garbage collection is a system that automatically removes unused objects from memory. It uses reference counting and generational garbage collection to manage memory.\n",
        "\n"
      ],
      "metadata": {
        "id": "7VFTgrfMbepk"
      }
    },
    {
      "cell_type": "markdown",
      "source": [
        "16. What is the purpose of the else block in exception handling?\n",
        "   - The purpose of the else block in exception handling is to execute code when no exceptions occur in the try block.\n",
        "Explanation\n",
        "* The try block tests a block of code for errors.\n",
        "* The except block handles errors that occur in the try block.\n",
        "* The else block executes code if no errors occur in the try block.\n",
        "* The finally block executes code regardless of whether an exception occurs or not.\n"
      ],
      "metadata": {
        "id": "BGbd30kIcDwu"
      }
    },
    {
      "cell_type": "markdown",
      "source": [
        "17. What are the common logging levels in Python?\n",
        "   - In Python, the logging module defines several standard logging levels that help categorize the severity of log messages. Here are the common ones:\n",
        "\n",
        "DEBUG: Detailed information, typically useful only for diagnosing problems. It’s the lowest level of logging and used during development.\n",
        "\n",
        "INFO: General information about the program’s operation. It’s useful for tracking the normal flow of the application without too much detail.\n",
        "\n",
        "WARNING: Indicates a potential issue or something that isn’t right, but it’s not necessarily a problem. It’s a way to flag unexpected situations.\n",
        "\n",
        "ERROR: An error occurred that might affect the execution of the program, but the program is still running.\n",
        "\n",
        "CRITICAL: A very serious error that could cause the program to stop or result in a catastrophic failure.\n"
      ],
      "metadata": {
        "id": "5iZxWYLkc3_V"
      }
    },
    {
      "cell_type": "markdown",
      "source": [
        "18. What is the difference between os.fork() and multiprocessing in Python?\n",
        "* Platform Compatibility: os.fork() is limited to UNIX-like systems, while multiprocessing works across platforms (including Windows).\n",
        "* Ease of Use: multiprocessing provides higher-level abstractions for managing processes, synchronization, and communication, while os.fork() requires manual management of these concerns.\n",
        "* Process Communication: With os.fork(), communication between processes needs to be manually set up (e.g., using os.pipe(), os.wait()), whereas multiprocessing provides built-in mechanisms (like Queue, Pipe, and shared memory).\n"
      ],
      "metadata": {
        "id": "K10FXr7Oe4j7"
      }
    },
    {
      "cell_type": "markdown",
      "source": [
        "19. What is the importance of closing a file in Python?\n",
        "   - Python does not flush the buffer that is writing data to the file until it is certain you are finished writing, which can be accomplished by closing the file. If you write to a file without closing it, the data will not be saved to the destination file.\n",
        "\n"
      ],
      "metadata": {
        "id": "QJzWEG46nETI"
      }
    },
    {
      "cell_type": "markdown",
      "source": [
        "20. What is the difference between file.read() and file.readline() in python?\n",
        "  - In Python, the `read()` method is used to read a specified number of characters from a file or input stream, while the `readline()` method is used to read a single line from a file or input stream. The `read()` method will read the entire content of the file or stream if no argument is provided, returning a string.\n",
        "\n",
        "\n"
      ],
      "metadata": {
        "id": "o27v-_a2oJdS"
      }
    },
    {
      "cell_type": "markdown",
      "source": [
        "21. What is the logging module in Python used for?\n",
        "   - Python logging is a module that allows you to track events that occur while your program is running. You can use logging to record information about errors, warnings, and other events that occur during program execution. And logging is a useful tool for debugging, troubleshooting, and monitoring your program.\n",
        "\n"
      ],
      "metadata": {
        "id": "D-nPTbkkp2XN"
      }
    },
    {
      "cell_type": "markdown",
      "source": [
        "22. What is the os module in Python used for in file handling?\n",
        "   - Python has a built-in os module with methods for interacting with the operating system, like creating files and directories, management of files and directories, input, output, environment variables, process management, etc. The os module has the following set of methods and constants.\n",
        "\n"
      ],
      "metadata": {
        "id": "uAlBenUXtsdz"
      }
    },
    {
      "cell_type": "markdown",
      "source": [
        "23. What are the challenges associated with memory management in Python?\n",
        "   - Memory management problems. The basic problem in managing memory is knowing when to keep the data it contains, and when to throw it away so that the memory can be reused. This sounds easy, but is, in fact, such a hard problem that it is an entire field of study in its own right.\n",
        "\n"
      ],
      "metadata": {
        "id": "l4cmRRlkvEeV"
      }
    },
    {
      "cell_type": "markdown",
      "source": [
        "24. How do you raise an exception manually in Python?\n",
        "   - To manually raise an exception in Python, use the raise statement. Here is an example of how to use it: Copied! In this example, the calculate_payment function raises a ValueError exception if the payment_type is not either \"Visa\" or \"Mastercard\".\n",
        "\n"
      ],
      "metadata": {
        "id": "ET2JwrICwKkI"
      }
    },
    {
      "cell_type": "markdown",
      "source": [
        "25. Why is it important to use multithreading in certain applications?\n",
        "   - Multithreading is important in certain applications because it allows multiple tasks to execute concurrently, significantly improving performance by utilizing the available CPU cores efficiently, especially on multi-processor systems, leading to better responsiveness and scalability within an application; however, managing shared resources between threads requires careful synchronization to avoid race conditions and deadlocks.\n"
      ],
      "metadata": {
        "id": "j9X97hdaxEqq"
      }
    },
    {
      "cell_type": "code",
      "source": [
        "#1. How can you open a file for writing in Python and write a string to it?\n",
        "# Open a file for writing (creates the file if it doesn't exist)\n",
        "with open('example.txt', 'w') as file:\n",
        "    # Write a string to the file\n",
        "    file.write('Hello, world!')\n"
      ],
      "metadata": {
        "id": "plZBf42t4VV-"
      },
      "execution_count": null,
      "outputs": []
    },
    {
      "cell_type": "code",
      "source": [
        "# 2. Write a Python program to read the contents of a file and print each line?\n",
        "# Open the file in read mode\n",
        "with open('example.txt', 'r') as file:\n",
        "    # Read and print each line in the file\n",
        "    for line in file:\n",
        "        print(line.strip())  # .strip() removes extra newline characters\n"
      ],
      "metadata": {
        "colab": {
          "base_uri": "https://localhost:8080/"
        },
        "id": "RHOMzKpq7D54",
        "outputId": "62ff7f65-30d4-4a01-e265-31c6609bd689"
      },
      "execution_count": null,
      "outputs": [
        {
          "output_type": "stream",
          "name": "stdout",
          "text": [
            "Hello, world!\n"
          ]
        }
      ]
    },
    {
      "cell_type": "code",
      "source": [
        "#3. How would you handle a case where the file doesn't exist while trying to open it for reading?\n",
        "try:\n",
        "    with open(\"example.txt1\", \"r\") as file:\n",
        "        # Read or process the file content\n",
        "        content = file.read()\n",
        "        print(content)\n",
        "except FileNotFoundError:\n",
        "    print(\"The file does not exist.\")\n"
      ],
      "metadata": {
        "colab": {
          "base_uri": "https://localhost:8080/"
        },
        "id": "6nUeGT-Q8RbR",
        "outputId": "039f954d-9638-4f95-a807-1d9c8b82c002"
      },
      "execution_count": null,
      "outputs": [
        {
          "output_type": "stream",
          "name": "stdout",
          "text": [
            "The file does not exist.\n"
          ]
        }
      ]
    },
    {
      "cell_type": "code",
      "source": [
        "#4. Write a Python script that reads from one file and writes its content to another file?\n",
        "# Open the source file in read mode and the destination file in write mode\n",
        "with open('example.txt', 'r') as source_file:\n",
        "    with open('destination.txt', 'w') as dest_file:\n",
        "        # Read content from source file and write to destination file\n",
        "        content = source_file.read()  # Read the entire content\n",
        "        dest_file.write(content)  # Write the content to the destination file\n",
        "\n"
      ],
      "metadata": {
        "id": "ajFXDQ6B9B9g"
      },
      "execution_count": null,
      "outputs": []
    },
    {
      "cell_type": "code",
      "source": [
        "#5. How would you catch and handle division by zero error in Python ?\n",
        "try:\n",
        "    numerator = 10\n",
        "    denominator = 0\n",
        "    result = numerator / denominator\n",
        "except ZeroDivisionError:\n",
        "    print(\"Error: Cannot divide by zero.\")\n",
        "else:\n",
        "    print(\"The result is:\", result)\n",
        "\n"
      ],
      "metadata": {
        "colab": {
          "base_uri": "https://localhost:8080/"
        },
        "id": "hNp2VAWd_xLd",
        "outputId": "4aad4da9-f1ec-4e56-9a3a-0d3b1b43682c"
      },
      "execution_count": null,
      "outputs": [
        {
          "output_type": "stream",
          "name": "stdout",
          "text": [
            "Error: Cannot divide by zero.\n"
          ]
        }
      ]
    },
    {
      "cell_type": "code",
      "source": [
        "#6.Write a Python program that logs an error message to a log file when a division by zero exception occurs?\n",
        "import logging\n",
        "\n",
        "# Set up logging to write to a file\n",
        "logging.basicConfig(filename='error_log.txt', level=logging.ERROR,\n",
        "                    format='%(asctime)s - %(levelname)s - %(message)s')\n",
        "\n",
        "try:\n",
        "    # Example code that may cause a division by zero error\n",
        "    numerator = 10\n",
        "    denominator = 0\n",
        "    result = numerator / denominator  # This will raise ZeroDivisionError\n",
        "except ZeroDivisionError as e:\n",
        "    # Log the error message to the log file\n",
        "    logging.error(f\"Error occurred: {e}\")\n",
        "\n"
      ],
      "metadata": {
        "colab": {
          "base_uri": "https://localhost:8080/"
        },
        "id": "UHii6CY2BMhE",
        "outputId": "f0d722f1-fc20-45b0-8116-7eed19c5521d"
      },
      "execution_count": null,
      "outputs": [
        {
          "output_type": "stream",
          "name": "stderr",
          "text": [
            "ERROR:root:Error occurred: division by zero\n"
          ]
        }
      ]
    },
    {
      "cell_type": "code",
      "source": [
        "#7. How do you log information at different levels (INFO, ERROR, WARNING) in Python using the logging module?\n",
        "import logging\n",
        "\n",
        "# Set up logging configuration\n",
        "logging.basicConfig(filename='app.log', level=logging.DEBUG,\n",
        "                    format='%(asctime)s - %(levelname)s - %(message)s')\n",
        "\n",
        "# Log messages at different levels\n",
        "\n",
        "# DEBUG level (detailed information, useful for diagnosing issues)\n",
        "logging.debug(\"This is a debug message\")\n",
        "\n",
        "# INFO level (general information about the program's execution)\n",
        "logging.info(\"This is an info message\")\n",
        "\n",
        "# WARNING level (indicates something unexpected, but the program can still run)\n",
        "logging.warning(\"This is a warning message\")\n",
        "\n",
        "# ERROR level (indicates a more serious problem that prevented some part of the program from executing)\n",
        "logging.error(\"This is an error message\")\n",
        "\n",
        "# CRITICAL level (very serious error, likely the program can't continue)\n",
        "logging.critical(\"This is a critical error message\")\n",
        "\n"
      ],
      "metadata": {
        "colab": {
          "base_uri": "https://localhost:8080/"
        },
        "id": "W_Zn3L59C98x",
        "outputId": "6cd976f8-c495-4272-bc38-24b641550dba"
      },
      "execution_count": null,
      "outputs": [
        {
          "output_type": "stream",
          "name": "stderr",
          "text": [
            "WARNING:root:This is a warning message\n",
            "ERROR:root:This is an error message\n",
            "CRITICAL:root:This is a critical error message\n"
          ]
        }
      ]
    },
    {
      "cell_type": "code",
      "source": [
        "#8. Write a program to handle a file opening error using exception handling?\n",
        "try:\n",
        "    # Attempt to open the file in read mode\n",
        "    with open('non_existent_file.txt', 'r') as file:\n",
        "        content = file.read()\n",
        "        print(content)\n",
        "\n",
        "except FileNotFoundError as e:\n",
        "    # Handle the case where the file does not exist\n",
        "    print(f\"Error: The file was not found. {e}\")\n",
        "\n",
        "except PermissionError as e:\n",
        "    # Handle the case where the file exists but cannot be opened due to permissions\n",
        "    print(f\"Error: You do not have permission to open the file. {e}\")\n",
        "\n",
        "except Exception as e:\n",
        "    # Handle any other general exceptions\n",
        "    print(f\"An unexpected error occurred: {e}\")\n",
        "\n"
      ],
      "metadata": {
        "colab": {
          "base_uri": "https://localhost:8080/"
        },
        "id": "Y3-WCPyVE56J",
        "outputId": "41c22ea3-8821-4c90-c66d-2c90ec546e5a"
      },
      "execution_count": null,
      "outputs": [
        {
          "output_type": "stream",
          "name": "stdout",
          "text": [
            "Error: The file was not found. [Errno 2] No such file or directory: 'non_existent_file.txt'\n"
          ]
        }
      ]
    },
    {
      "cell_type": "code",
      "source": [
        "#9. How can you read a file line by line and store its content in a list in Python?\n",
        "# Initialize an empty list to store lines\n",
        "lines = []\n",
        "\n",
        "# Open the file in read mode\n",
        "with open('example.txt', 'r') as file:\n",
        "    # Read each line from the file and store it in the list\n",
        "    lines = file.readlines()\n",
        "\n",
        "# Print the list to see the content\n",
        "print(lines)\n",
        "\n"
      ],
      "metadata": {
        "colab": {
          "base_uri": "https://localhost:8080/"
        },
        "id": "RohOPCr-FqMX",
        "outputId": "e2de8edf-3c9c-4aa0-872c-0170c6698bda"
      },
      "execution_count": null,
      "outputs": [
        {
          "output_type": "stream",
          "name": "stdout",
          "text": [
            "['Hello, world!']\n"
          ]
        }
      ]
    },
    {
      "cell_type": "code",
      "source": [
        "#10.How can you append data to an existing file in Python?\n",
        "# Open the file in append mode ('a')\n",
        "with open('example.txt', 'a') as file:\n",
        "    file.write(\"This is the new data that will be appended.\\n\")\n",
        "lines_to_append = [\n",
        "    \"This is the first line of new data.\\n\",\n",
        "    \"Here comes the second line.\\n\",\n",
        "    \"And finally, the third line.\\n\"\n",
        "]\n",
        "\n",
        "with open('example.txt', 'a') as file:\n",
        "    file.writelines(lines_to_append)\n",
        "\n"
      ],
      "metadata": {
        "id": "s2RpcboYH-RU"
      },
      "execution_count": null,
      "outputs": []
    },
    {
      "cell_type": "code",
      "source": [
        "#11. Write a Python program that uses a try-except block to handle an error when attempting to access a dictionary key that doesn't exist\n",
        "# Sample dictionary\n",
        "my_dict = {\"name\": \"Alice\", \"age\": 25, \"city\": \"New York\"}\n",
        "\n",
        "# Key to access\n",
        "key_to_access = \"address\"\n",
        "\n",
        "try:\n",
        "    # Attempt to access the dictionary key\n",
        "    value = my_dict[key_to_access]\n",
        "    print(f\"The value for '{key_to_access}' is: {value}\")\n",
        "except KeyError:\n",
        "    # Handle the case where the key doesn't exist\n",
        "    print(f\"Error: The key '{key_to_access}' does not exist in the dictionary.\")\n"
      ],
      "metadata": {
        "colab": {
          "base_uri": "https://localhost:8080/"
        },
        "id": "M4-8MTCaJmW8",
        "outputId": "6ea8b183-205d-41ab-c7cd-ff5f9ca7d90a"
      },
      "execution_count": null,
      "outputs": [
        {
          "output_type": "stream",
          "name": "stdout",
          "text": [
            "Error: The key 'address' does not exist in the dictionary.\n"
          ]
        }
      ]
    },
    {
      "cell_type": "code",
      "source": [
        "#12. Write a program that demonstrates using multiple except blocks to handle different types of exceptions?\n",
        "def handle_exceptions():\n",
        "    try:\n",
        "        # Prompt the user for input and perform various operations that may raise exceptions\n",
        "        user_input = input(\"Enter a number: \")\n",
        "\n",
        "        # Convert the input to an integer\n",
        "        num = int(user_input)\n",
        "\n",
        "        # Perform a division operation\n",
        "        result = 10 / num\n",
        "        print(f\"The result of dividing 10 by your number is: {result}\")\n",
        "\n",
        "    except ValueError:\n",
        "        # Handle the case where the input is not a valid integer\n",
        "        print(\"Error: Invalid input! Please enter a valid number.\")\n",
        "\n",
        "    except ZeroDivisionError:\n",
        "        # Handle the case where the user enters zero (which causes division by zero)\n",
        "        print(\"Error: Division by zero is not allowed.\")\n",
        "\n",
        "    except Exception as e:\n",
        "        # This catches any other general exceptions\n",
        "        print(f\"An unexpected error occurred: {e}\")\n",
        "\n",
        "# Call the function to demonstrate the exception handling\n",
        "handle_exceptions()\n",
        "\n"
      ],
      "metadata": {
        "id": "uEWy7K3gLAxa"
      },
      "execution_count": null,
      "outputs": []
    },
    {
      "cell_type": "code",
      "source": [
        "#13. How would you check if a file exists before attempting to read it in Python?\n",
        "import os\n",
        "\n",
        "file_path = \"example.txt\"\n",
        "\n",
        "# Check if the file exists before attempting to read it\n",
        "if os.path.exists(file_path):\n",
        "    with open(file_path, 'r') as file:\n",
        "        content = file.read()\n",
        "        print(content)\n",
        "else:\n",
        "    print(f\"The file '{file_path}' does not exist.\")\n",
        "\n"
      ],
      "metadata": {
        "colab": {
          "base_uri": "https://localhost:8080/"
        },
        "id": "UWJXI1M_OLud",
        "outputId": "5f22b84f-1380-4f1a-a68a-95163e759545"
      },
      "execution_count": null,
      "outputs": [
        {
          "output_type": "stream",
          "name": "stdout",
          "text": [
            "Hello, world!This is the new data that will be appended.\n",
            "This is the new data that will be appended.\n",
            "This is the new data that will be appended.\n",
            "This is the first line of new data.\n",
            "Here comes the second line.\n",
            "And finally, the third line.\n",
            "\n"
          ]
        }
      ]
    },
    {
      "cell_type": "code",
      "source": [
        "#14. Write a program that uses the logging module to log both informational and error messages?\n",
        "import logging\n",
        "\n",
        "# Set up logging configuration\n",
        "logging.basicConfig(\n",
        "    level=logging.DEBUG,  # Log messages at DEBUG level and higher\n",
        "    format='%(asctime)s - %(levelname)s - %(message)s',\n",
        "    handlers=[\n",
        "        logging.StreamHandler()  # Log messages to the console\n",
        "    ]\n",
        ")\n",
        "\n",
        "# Log an informational message\n",
        "logging.info(\"This is an informational message.\")\n",
        "\n",
        "# Log an error message\n",
        "try:\n",
        "    x = 10 / 0  # This will raise a ZeroDivisionError\n",
        "except ZeroDivisionError as e:\n",
        "    logging.error(\"Error occurred: %s\", e)\n",
        "\n"
      ],
      "metadata": {
        "colab": {
          "base_uri": "https://localhost:8080/"
        },
        "id": "ojjigKy-O-PS",
        "outputId": "97ed0be4-1280-4eb6-df02-3ff216935fa0"
      },
      "execution_count": null,
      "outputs": [
        {
          "output_type": "stream",
          "name": "stderr",
          "text": [
            "ERROR:root:Error occurred: division by zero\n"
          ]
        }
      ]
    },
    {
      "cell_type": "code",
      "source": [
        "#15. Write a Python program that prints the content of a file and handles the case when the file is empty?\n",
        "def print_file_content(file_path):\n",
        "    try:\n",
        "        # Open the file in read mode\n",
        "        with open(file_path, 'r') as file:\n",
        "            # Read the content of the file\n",
        "            content = file.read()\n",
        "\n",
        "            # Check if the file is empty\n",
        "            if content:\n",
        "                print(\"File Content:\\n\", content)\n",
        "            else:\n",
        "                print(\"The file is empty.\")\n",
        "    except FileNotFoundError:\n",
        "        print(f\"Error: The file '{file_path}' does not exist.\")\n",
        "    except Exception as e:\n",
        "        print(f\"An unexpected error occurred: {e}\")\n",
        "\n",
        "# Specify the file path\n",
        "file_path = 'example.txt'\n",
        "\n",
        "# Call the function to print the file content\n",
        "print_file_content(file_path)\n",
        "\n"
      ],
      "metadata": {
        "colab": {
          "base_uri": "https://localhost:8080/"
        },
        "id": "wRqZAxvaP3-F",
        "outputId": "fc8dc1dc-e048-4286-8553-210032ea3add"
      },
      "execution_count": null,
      "outputs": [
        {
          "output_type": "stream",
          "name": "stdout",
          "text": [
            "File Content:\n",
            " Hello, world!This is the new data that will be appended.\n",
            "This is the new data that will be appended.\n",
            "This is the new data that will be appended.\n",
            "This is the first line of new data.\n",
            "Here comes the second line.\n",
            "And finally, the third line.\n",
            "\n"
          ]
        }
      ]
    },
    {
      "cell_type": "code",
      "source": [
        "#16. Demonstrate how to use memory profiling to check the memory usage of a small program?\n",
        "# Import the memory_profiler module\n",
        "from memory_profiler import profile\n",
        "\n",
        "@profile\n",
        "def my_function():\n",
        "    a = [i for i in range(10000)]  # Create a large list\n",
        "    b = [i * 2 for i in a]         # Create another large list\n",
        "    c = sum(b)                     # Sum the elements of b\n",
        "    return c\n",
        "\n",
        "if __name__ == \"__main__\":\n",
        "    my_function()\n",
        "\n"
      ],
      "metadata": {
        "id": "P6uuTt9LQ3lJ"
      },
      "execution_count": null,
      "outputs": []
    },
    {
      "cell_type": "code",
      "source": [
        "#17.  Write a Python program to create and write a list of numbers to a file, one number per line?\n",
        "def write_numbers_to_file(filename, numbers):\n",
        "    try:\n",
        "        # Open the file in write mode ('w')\n",
        "        with open(filename, 'w') as file:\n",
        "            for number in numbers:\n",
        "                # Write each number followed by a newline character\n",
        "                file.write(f\"{number}\\n\")\n",
        "        print(f\"Numbers have been written to {filename} successfully.\")\n",
        "    except Exception as e:\n",
        "        print(f\"An error occurred: {e}\")\n",
        "\n",
        "# List of numbers\n",
        "numbers = [1, 2, 3, 4, 5, 6, 7, 8, 9, 10]\n",
        "\n",
        "# Call the function to write numbers to a file\n",
        "write_numbers_to_file('numbers.txt', numbers)\n",
        "\n"
      ],
      "metadata": {
        "colab": {
          "base_uri": "https://localhost:8080/"
        },
        "id": "ABxs0Dh4Rf2X",
        "outputId": "562322a7-e4ea-4899-c251-beb9737b50d0"
      },
      "execution_count": null,
      "outputs": [
        {
          "output_type": "stream",
          "name": "stdout",
          "text": [
            "Numbers have been written to numbers.txt successfully.\n"
          ]
        }
      ]
    },
    {
      "cell_type": "code",
      "source": [
        "#18. How would you implement a basic logging setup that logs to a file with rotation after 1MB?\n",
        "import logging\n",
        "from logging.handlers import RotatingFileHandler\n",
        "\n",
        "# Set up logging configuration\n",
        "log_file = 'app.log'\n",
        "\n",
        "# Create a rotating file handler that rotates the log after 1MB (1,000,000 bytes)\n",
        "handler = RotatingFileHandler(log_file, maxBytes=1e6, backupCount=3)\n",
        "\n",
        "# Set the log format\n",
        "formatter = logging.Formatter('%(asctime)s - %(levelname)s - %(message)s')\n",
        "handler.setFormatter(formatter)\n",
        "\n",
        "# Set up the logger\n",
        "logger = logging.getLogger()\n",
        "logger.setLevel(logging.DEBUG)  # Log at the DEBUG level and higher\n",
        "logger.addHandler(handler)\n",
        "\n",
        "# Sample log messages\n",
        "logger.debug(\"This is a debug message.\")\n",
        "logger.info(\"This is an informational message.\")\n",
        "logger.warning(\"This is a warning message.\")\n",
        "logger.error(\"This is an error message.\")\n",
        "logger.critical(\"This is a critical message.\")\n",
        "\n",
        "\n"
      ],
      "metadata": {
        "colab": {
          "base_uri": "https://localhost:8080/"
        },
        "id": "nlxFan2hSIae",
        "outputId": "5bf9698d-e7d3-48bd-d79f-fbe53d9aadce"
      },
      "execution_count": null,
      "outputs": [
        {
          "output_type": "stream",
          "name": "stderr",
          "text": [
            "DEBUG:root:This is a debug message.\n",
            "INFO:root:This is an informational message.\n",
            "WARNING:root:This is a warning message.\n",
            "ERROR:root:This is an error message.\n",
            "CRITICAL:root:This is a critical message.\n"
          ]
        }
      ]
    },
    {
      "cell_type": "code",
      "source": [
        "#19. Write a program that handles both IndexError and KeyError using a try-except block?\n",
        "def handle_index_and_key_error():\n",
        "    # Sample data\n",
        "    my_list = [1, 2, 3]\n",
        "    my_dict = {\"name\": \"Alice\", \"age\": 30}\n",
        "\n",
        "    try:\n",
        "        # Attempt to access an index in the list that may be out of range\n",
        "        print(my_list[5])  # This will raise IndexError\n",
        "\n",
        "        # Attempt to access a key in the dictionary that may not exist\n",
        "        print(my_dict[\"address\"])  # This will raise KeyError\n",
        "\n",
        "    except IndexError as e:\n",
        "        print(f\"IndexError: {e} - List index is out of range.\")\n",
        "    except KeyError as e:\n",
        "        print(f\"KeyError: {e} - The key does not exist in the dictionary.\")\n",
        "    except Exception as e:\n",
        "        # Catch any other exceptions\n",
        "        print(f\"An unexpected error occurred: {e}\")\n",
        "\n",
        "# Call the function to demonstrate exception handling\n",
        "handle_index_and_key_error()\n",
        "\n"
      ],
      "metadata": {
        "colab": {
          "base_uri": "https://localhost:8080/"
        },
        "id": "ql3fCl-CS7oJ",
        "outputId": "10a6c67c-fe4d-47d5-e5e2-5707db5864ac"
      },
      "execution_count": null,
      "outputs": [
        {
          "output_type": "stream",
          "name": "stdout",
          "text": [
            "IndexError: list index out of range - List index is out of range.\n"
          ]
        }
      ]
    },
    {
      "cell_type": "code",
      "source": [
        "#20. How would you open a file and read its contents using a context manager in Python?\n",
        "# Open and read a file using a context manager\n",
        "# Open and read a file using a context manager\n",
        "file_path = 'example.txt'\n",
        "\n",
        "with open(file_path, 'r') as file:\n",
        "    # Read the entire contents of the file\n",
        "    content = file.read()\n",
        "    print(content)\n",
        "\n"
      ],
      "metadata": {
        "colab": {
          "base_uri": "https://localhost:8080/"
        },
        "id": "6vZYUJ7cTgZC",
        "outputId": "df4feea9-9b5c-45ea-9d1d-ccfe128b4386"
      },
      "execution_count": null,
      "outputs": [
        {
          "output_type": "stream",
          "name": "stdout",
          "text": [
            "Hello, world!This is the new data that will be appended.\n",
            "This is the new data that will be appended.\n",
            "This is the new data that will be appended.\n",
            "This is the first line of new data.\n",
            "Here comes the second line.\n",
            "And finally, the third line.\n",
            "\n"
          ]
        }
      ]
    },
    {
      "cell_type": "code",
      "source": [
        "#21. Write a Python program that reads a file and prints the number of occurrences of a specific word?\n",
        "def count_word_in_file(file_path, word_to_count):\n",
        "    word_count = 0\n",
        "\n",
        "    try:\n",
        "        # Open the file in read mode\n",
        "        with open(file_path, 'r') as file:\n",
        "            # Read each line in the file\n",
        "            for line in file:\n",
        "                # Split the line into words and count the occurrences of the specific word\n",
        "                word_count += line.lower().split().count(word_to_count.lower())\n",
        "\n",
        "        print(f\"The word '{word_to_count}' occurred {word_count} times in the file.\")\n",
        "\n",
        "    except FileNotFoundError:\n",
        "        print(f\"Error: The file '{file_path}' does not exist.\")\n",
        "    except Exception as e:\n",
        "        print(f\"An unexpected error occurred: {e}\")\n",
        "\n",
        "# Specify the file path and the word to count\n",
        "file_path = 'example.txt'\n",
        "word_to_count = 'python'\n",
        "\n",
        "# Call the function to count the occurrences of the word\n",
        "count_word_in_file\n",
        "\n"
      ],
      "metadata": {
        "colab": {
          "base_uri": "https://localhost:8080/",
          "height": 104
        },
        "id": "G8YanhVAUcWV",
        "outputId": "239e37cd-9532-44fa-81d1-dbc2af3ba349"
      },
      "execution_count": null,
      "outputs": [
        {
          "output_type": "execute_result",
          "data": {
            "text/plain": [
              "<function __main__.count_word_in_file(file_path, word_to_count)>"
            ],
            "text/html": [
              "<div style=\"max-width:800px; border: 1px solid var(--colab-border-color);\"><style>\n",
              "      pre.function-repr-contents {\n",
              "        overflow-x: auto;\n",
              "        padding: 8px 12px;\n",
              "        max-height: 500px;\n",
              "      }\n",
              "\n",
              "      pre.function-repr-contents.function-repr-contents-collapsed {\n",
              "        cursor: pointer;\n",
              "        max-height: 100px;\n",
              "      }\n",
              "    </style>\n",
              "    <pre style=\"white-space: initial; background:\n",
              "         var(--colab-secondary-surface-color); padding: 8px 12px;\n",
              "         border-bottom: 1px solid var(--colab-border-color);\"><b>count_word_in_file</b><br/>def count_word_in_file(file_path, word_to_count)</pre><pre class=\"function-repr-contents function-repr-contents-collapsed\" style=\"\"><a class=\"filepath\" style=\"display:none\" href=\"#\">/content/&lt;ipython-input-36-12b0ca63bf92&gt;</a>&lt;no docstring&gt;</pre></div>"
            ]
          },
          "metadata": {},
          "execution_count": 36
        }
      ]
    },
    {
      "cell_type": "code",
      "source": [
        "#22. How can you check if a file is empty before attempting to read its contents?\n",
        "import os\n",
        "\n",
        "def check_if_file_is_empty(file_path):\n",
        "    # Check if the file exists and if it's empty\n",
        "    if os.path.exists(file_path):\n",
        "        if os.path.getsize(file_path) == 0:\n",
        "            print(\"The file is empty.\")\n",
        "        else:\n",
        "            print(\"The file is not empty.\")\n",
        "            # Proceed to read the file\n",
        "            with open(file_path, 'r') as file:\n",
        "                content = file.read()\n",
        "                print(content)\n",
        "    else:\n",
        "        print(f\"The file '{file_path}' does not exist.\")\n",
        "\n",
        "# Specify the file path\n",
        "file_path = 'example.txt'\n",
        "check_if_file_is_empty(file_path)\n",
        "\n"
      ],
      "metadata": {
        "colab": {
          "base_uri": "https://localhost:8080/"
        },
        "id": "Q30N15M4U466",
        "outputId": "5e887843-b61d-46d0-c1e1-73c18e7ca5a3"
      },
      "execution_count": null,
      "outputs": [
        {
          "output_type": "stream",
          "name": "stdout",
          "text": [
            "The file is not empty.\n",
            "Hello, world!This is the new data that will be appended.\n",
            "This is the new data that will be appended.\n",
            "This is the new data that will be appended.\n",
            "This is the first line of new data.\n",
            "Here comes the second line.\n",
            "And finally, the third line.\n",
            "\n"
          ]
        }
      ]
    },
    {
      "cell_type": "code",
      "source": [
        "#23. Write a Python program that writes to a log file when an error occurs during file handling.\n",
        "import logging\n",
        "\n",
        "# Set up the logging configuration\n",
        "logging.basicConfig(\n",
        "    filename='file_error_log.log',  # Log messages will be saved to this file\n",
        "    level=logging.ERROR,  # Only log errors and above\n",
        "    format='%(asctime)s - %(levelname)s - %(message)s'\n",
        ")\n",
        "\n",
        "def handle_file_operations(file_path):\n",
        "    try:\n",
        "        # Attempt to open the file and read its content\n",
        "        with open(file_path, 'r') as file:\n",
        "            content = file.read()\n",
        "            print(content)\n",
        "\n",
        "    except FileNotFoundError as e:\n",
        "        # Log the error if the file doesn't exist\n",
        "        logging.error(f\"FileNotFoundError: {e} - File '{file_path}' not found.\")\n",
        "        print(f\"Error: File '{file_path}' not found.\")\n",
        "\n",
        "    except PermissionError as e:\n",
        "        # Log the error if there are permission issues\n",
        "        logging.error(f\"PermissionError: {e} - Permission denied for '{file_path}'.\")\n",
        "        print(f\"Error: Permission denied for '{file_path}'.\")\n",
        "\n",
        "    except Exception as e:\n",
        "        # Log any other exceptions\n",
        "        logging.error(f\"Unexpected error: {e} occurred while handling the file '{file_path}'.\")\n",
        "\n",
        "\n"
      ],
      "metadata": {
        "id": "PbAjxEhQVUy1"
      },
      "execution_count": null,
      "outputs": []
    }
  ]
}